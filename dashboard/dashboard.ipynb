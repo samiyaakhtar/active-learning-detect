{
 "cells": [
  {
   "cell_type": "markdown",
   "metadata": {},
   "source": [
    "# Active Learning dashboard"
   ]
  },
  {
   "cell_type": "code",
   "execution_count": 1,
   "metadata": {},
   "outputs": [],
   "source": [
    "import json\n",
    "import psycopg2\n",
    "import pandas as pd\n",
    "import plotly\n",
    "import plotly.plotly as py\n",
    "import plotly.graph_objs as go\n",
    "\n",
    "with open('config.json') as f:\n",
    "    conf = json.load(f)\n",
    "conn_str = \"host={} dbname={} user={} password={}\".format(conf['host'], conf['database'], conf['user'], conf['passw'])\n",
    "conn = psycopg2.connect(conn_str)\n",
    "plotly.tools.set_credentials_file(username=conf['plotlyusername'], api_key=conf['plotlyapikey'])"
   ]
  },
  {
   "cell_type": "markdown",
   "metadata": {},
   "source": [
    "Plotting a pie chart for current image tagging status:"
   ]
  },
  {
   "cell_type": "code",
   "execution_count": 26,
   "metadata": {},
   "outputs": [
    {
     "data": {
      "text/html": [
       "<iframe id=\"igraph\" scrolling=\"no\" style=\"border:none;\" seamless=\"seamless\" src=\"https://plot.ly/~samiyaakhtar/10.embed\" height=\"525px\" width=\"100%\"></iframe>"
      ],
      "text/plain": [
       "<plotly.tools.PlotlyDisplay object>"
      ]
     },
     "execution_count": 26,
     "metadata": {},
     "output_type": "execute_result"
    }
   ],
   "source": [
    "names = []\n",
    "numbers = []\n",
    "cursor = conn.cursor()\n",
    "cursor.execute('select count(a.imageid), b.tagstatename from Image_Tagging_State a join tagstate b ON a.tagstateid = b.tagstateid group by b.tagstatename')\n",
    "for (number, name) in cursor:\n",
    "    names.append(name)\n",
    "    numbers.append(number)\n",
    "\n",
    "fig = {\n",
    "    'data': [{'labels': names,\n",
    "              'values': numbers,\n",
    "              'type': 'pie'}],\n",
    "    'layout': {'title': 'Tag state by count'}\n",
    "     }\n",
    "\n",
    "py.iplot(fig)"
   ]
  },
  {
   "cell_type": "markdown",
   "metadata": {},
   "source": [
    "Plotting a time chart for the tagging activity over the last few days: "
   ]
  },
  {
   "cell_type": "code",
   "execution_count": 3,
   "metadata": {
    "scrolled": true
   },
   "outputs": [
    {
     "name": "stdout",
     "output_type": "stream",
     "text": [
      "High five! You successfully sent some data to your account on plotly. View your plot in your browser at https://plot.ly/~samiyaakhtar/0 or inside your plot.ly account where it is named 'basic-scatter'\n"
     ]
    },
    {
     "data": {
      "text/html": [
       "<iframe id=\"igraph\" scrolling=\"no\" style=\"border:none;\" seamless=\"seamless\" src=\"https://plot.ly/~samiyaakhtar/0.embed\" height=\"525px\" width=\"100%\"></iframe>"
      ],
      "text/plain": [
       "<plotly.tools.PlotlyDisplay object>"
      ]
     },
     "execution_count": 3,
     "metadata": {},
     "output_type": "execute_result"
    }
   ],
   "source": [
    "dates = []\n",
    "numimages = []\n",
    "cursor = conn.cursor()\n",
    "cursor.execute(\"select count(imageid), date_trunc('day', modifieddtim) timerange from image_tagging_state_audit group by date_trunc('day', modifieddtim) order by timerange\")\n",
    "for (numimage, date) in cursor:\n",
    "    x = pd.to_datetime(date)\n",
    "    dates.append(x)\n",
    "    numimages.append(numimage)\n",
    "\n",
    "# Create a trace\n",
    "trace = go.Scatter(\n",
    "    x = dates,\n",
    "    y = numimages,\n",
    "    # mode = 'markers'\n",
    "    name = 'Number of tagging activities'\n",
    ")\n",
    "data = [trace]\n",
    "layout = dict(title = 'Number of tagging activities by date', xaxis=dict(title='Date'), yaxis=dict(title='Tagging activities'))\n",
    "fig = dict(data=data, layout=layout)\n",
    "py.iplot(fig, filename='basic-scatter')"
   ]
  },
  {
   "cell_type": "markdown",
   "metadata": {},
   "source": [
    "Top taggers "
   ]
  },
  {
   "cell_type": "code",
   "execution_count": 27,
   "metadata": {},
   "outputs": [
    {
     "data": {
      "text/html": [
       "<iframe id=\"igraph\" scrolling=\"no\" style=\"border:none;\" seamless=\"seamless\" src=\"https://plot.ly/~samiyaakhtar/12.embed\" height=\"525px\" width=\"100%\"></iframe>"
      ],
      "text/plain": [
       "<plotly.tools.PlotlyDisplay object>"
      ]
     },
     "execution_count": 27,
     "metadata": {},
     "output_type": "execute_result"
    }
   ],
   "source": [
    "cursor = conn.cursor()\n",
    "usernames = []\n",
    "tagcounts = []\n",
    "cursor.execute(\"SELECT e.username, count(*) as TagCount FROM image_info a join image_tags b on a.imageid = b.imageid join tags_classification c on b.imagetagid = c.imagetagid join classification_info d on c.classificationid = d.classificationid join user_info e on b.createdbyuser = e.userid group by e.username order by TagCount desc\")\n",
    "for (username, tagcount) in cursor: \n",
    "    usernames.append(username)\n",
    "    tagcounts.append(tagcount)\n",
    "\n",
    "fig = {\n",
    "    'data': [{'labels': usernames,\n",
    "              'values': tagcounts,\n",
    "              'type': 'pie'}],\n",
    "    'layout': {'title': 'Top taggers by number of classifications'}\n",
    "     }\n",
    "\n",
    "py.iplot(fig)"
   ]
  },
  {
   "cell_type": "code",
   "execution_count": 24,
   "metadata": {},
   "outputs": [
    {
     "data": {
      "text/html": [
       "<iframe id=\"igraph\" scrolling=\"no\" style=\"border:none;\" seamless=\"seamless\" src=\"https://plot.ly/~samiyaakhtar/6.embed\" height=\"525px\" width=\"100%\"></iframe>"
      ],
      "text/plain": [
       "<plotly.tools.PlotlyDisplay object>"
      ]
     },
     "execution_count": 24,
     "metadata": {},
     "output_type": "execute_result"
    }
   ],
   "source": [
    "class_data = {}\n",
    "cursor = conn.cursor()\n",
    "cursor.execute(\"SELECT e.username, d.classificationname, count(*) as TagCount FROM image_info a join image_tags b on a.imageid = b.imageid join tags_classification c on b.imagetagid = c.imagetagid join classification_info d on c.classificationid = d.classificationid  join user_info e on b.createdbyuser = e.userid group by e.username, d.classificationname order by TagCount desc\")\n",
    "for (username, classname, tagcount) in cursor:\n",
    "    if username not in class_data:\n",
    "        class_data[username] = {}\n",
    "        class_data[username]['classnames'] = []\n",
    "        class_data[username]['tagcount'] = []\n",
    "    class_data[username]['classnames'].append(classname)\n",
    "    class_data[username]['tagcount'].append(tagcount)\n",
    "    \n",
    "data = []\n",
    "for key in class_data:\n",
    "    trace = go.Bar(\n",
    "        x=class_data[key]['classnames'],\n",
    "        y=class_data[key]['tagcount'],\n",
    "        name=key\n",
    "    )\n",
    "    data.append(trace)\n",
    "\n",
    "layout = go.Layout(\n",
    "    barmode='stack',\n",
    "    title='Top taggers by classification info'\n",
    ")\n",
    "fig = go.Figure(data=data, layout=layout)\n",
    "py.iplot(fig, filename='stacked-bar')\n"
   ]
  },
  {
   "cell_type": "code",
   "execution_count": 25,
   "metadata": {},
   "outputs": [
    {
     "data": {
      "text/html": [
       "<iframe id=\"igraph\" scrolling=\"no\" style=\"border:none;\" seamless=\"seamless\" src=\"https://plot.ly/~samiyaakhtar/8.embed\" height=\"525px\" width=\"100%\"></iframe>"
      ],
      "text/plain": [
       "<plotly.tools.PlotlyDisplay object>"
      ]
     },
     "execution_count": 25,
     "metadata": {},
     "output_type": "execute_result"
    }
   ],
   "source": [
    "cursor = conn.cursor()\n",
    "cursor.execute('SELECT b.classificationname, count(*) AS ClassificationCount FROM tags_classification a join classification_info b on a.classificationid = b.classificationid group by classificationname order by ClassificationCount desc')\n",
    "classnames = []\n",
    "counts = []\n",
    "for (classname, count) in cursor:\n",
    "    classnames.append(classname)\n",
    "    counts.append(count)\n",
    "\n",
    "trace = go.Bar(\n",
    "    x=classnames,\n",
    "    y=counts\n",
    ")\n",
    "data = [trace]\n",
    "layout = dict(title = 'Top classifications', xaxis=dict(title='Classification'), yaxis=dict(title='Number of tags'))\n",
    "fig = dict(data=data, layout=layout)\n",
    "py.iplot(fig, filename='basic-plot')"
   ]
  },
  {
   "cell_type": "code",
   "execution_count": null,
   "metadata": {},
   "outputs": [],
   "source": []
  }
 ],
 "metadata": {
  "kernelspec": {
   "display_name": "Python 3",
   "language": "python",
   "name": "python3"
  },
  "language_info": {
   "codemirror_mode": {
    "name": "ipython",
    "version": 3
   },
   "file_extension": ".py",
   "mimetype": "text/x-python",
   "name": "python",
   "nbconvert_exporter": "python",
   "pygments_lexer": "ipython3",
   "version": "3.7.0"
  }
 },
 "nbformat": 4,
 "nbformat_minor": 2
}
