{
 "cells": [
  {
   "cell_type": "markdown",
   "metadata": {},
   "source": [
    "# Active Learning dashboard"
   ]
  },
  {
   "cell_type": "code",
   "execution_count": 3,
   "metadata": {},
   "outputs": [],
   "source": [
    "import json\n",
    "import psycopg2\n",
    "import pandas as pd\n",
    "import plotly\n",
    "import plotly.plotly as py\n",
    "import plotly.graph_objs as go\n",
    "\n",
    "with open('config.json') as f:\n",
    "    conf = json.load(f)\n",
    "conn_str = \"host={} dbname={} user={} password={}\".format(conf['host'], conf['database'], conf['user'], conf['passw'])\n",
    "conn = psycopg2.connect(conn_str)\n",
    "plotly.tools.set_credentials_file(username=conf['plotlyusername'], api_key=conf['plotlyapikey'])"
   ]
  },
  {
   "cell_type": "markdown",
   "metadata": {},
   "source": [
    "Plotting a pie chart for current image tagging status:"
   ]
  },
  {
   "cell_type": "code",
   "execution_count": 4,
   "metadata": {},
   "outputs": [
    {
     "data": {
      "text/html": [
       "<iframe id=\"igraph\" scrolling=\"no\" style=\"border:none;\" seamless=\"seamless\" src=\"https://plot.ly/~samiyaakhtar/4.embed\" height=\"525px\" width=\"100%\"></iframe>"
      ],
      "text/plain": [
       "<plotly.tools.PlotlyDisplay object>"
      ]
     },
     "execution_count": 4,
     "metadata": {},
     "output_type": "execute_result"
    }
   ],
   "source": [
    "names = []\n",
    "numbers = []\n",
    "cursor = conn.cursor()\n",
    "cursor.execute('select count(a.imageid), b.tagstatename from Image_Tagging_State a join tagstate b ON a.tagstateid = b.tagstateid group by b.tagstatename')\n",
    "for (number, name) in cursor:\n",
    "    names.append(name)\n",
    "    numbers.append(number)\n",
    "\n",
    "trace = go.Pie(labels=names, values=numbers)\n",
    "py.iplot([trace], filename='basic')"
   ]
  },
  {
   "cell_type": "markdown",
   "metadata": {},
   "source": [
    "Plotting a time chart for the tagging activity over the last few days: "
   ]
  },
  {
   "cell_type": "code",
   "execution_count": 5,
   "metadata": {},
   "outputs": [
    {
     "name": "stdout",
     "output_type": "stream",
     "text": [
      "High five! You successfully sent some data to your account on plotly. View your plot in your browser at https://plot.ly/~samiyaakhtar/0 or inside your plot.ly account where it is named 'basic-scatter'\n"
     ]
    },
    {
     "data": {
      "text/html": [
       "<iframe id=\"igraph\" scrolling=\"no\" style=\"border:none;\" seamless=\"seamless\" src=\"https://plot.ly/~samiyaakhtar/0.embed\" height=\"525px\" width=\"100%\"></iframe>"
      ],
      "text/plain": [
       "<plotly.tools.PlotlyDisplay object>"
      ]
     },
     "execution_count": 5,
     "metadata": {},
     "output_type": "execute_result"
    }
   ],
   "source": [
    "dates = []\n",
    "numimages = []\n",
    "cursor = conn.cursor()\n",
    "cursor.execute(\"select count(imageid), date_trunc('day', modifieddtim) timerange from image_tagging_state_audit group by date_trunc('day', modifieddtim) order by timerange\")\n",
    "for (numimage, date) in cursor:\n",
    "    x = pd.to_datetime(date)\n",
    "    dates.append(x)\n",
    "    numimages.append(numimage)\n",
    "\n",
    "# Create a trace\n",
    "trace = go.Scatter(\n",
    "    x = dates,\n",
    "    y = numimages,\n",
    "    # mode = 'markers'\n",
    "    name = 'Number of tagging activities'\n",
    ")\n",
    "data = [trace]\n",
    "layout = dict(title = 'Number of tagging activities by date', xaxis=dict(title='Date'), yaxis=dict(title='Tagging activities'))\n",
    "fig = dict(data=data, layout=layout)\n",
    "py.iplot(fig, filename='basic-scatter')"
   ]
  }
 ],
 "metadata": {
  "kernelspec": {
   "display_name": "Python 3",
   "language": "python",
   "name": "python3"
  },
  "language_info": {
   "codemirror_mode": {
    "name": "ipython",
    "version": 3
   },
   "file_extension": ".py",
   "mimetype": "text/x-python",
   "name": "python",
   "nbconvert_exporter": "python",
   "pygments_lexer": "ipython3",
   "version": "3.7.0"
  }
 },
 "nbformat": 4,
 "nbformat_minor": 2
}
